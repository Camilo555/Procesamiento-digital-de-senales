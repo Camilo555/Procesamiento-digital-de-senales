{
 "cells": [
  {
   "cell_type": "markdown",
   "metadata": {},
   "source": [
    "# Marca de Agua en Señales de Audio"
   ]
  },
  {
   "cell_type": "markdown",
   "metadata": {},
   "source": [
    "Este Jupyter Notebook presenta el código que muestra el desarrollo experimental presentado en el informe \"Marca de Agua en Señales de Audio\".\n",
    "\n",
    "Se importan todas las bibliotecas que serán utilizadas."
   ]
  },
  {
   "cell_type": "code",
   "execution_count": 1,
   "metadata": {},
   "outputs": [],
   "source": [
    "import numpy as np\n",
    "import matplotlib.pyplot as plt\n",
    "import scipy\n",
    "from scipy.fft import fft\n",
    "import scipy.signal as sig\n",
    "import cv2"
   ]
  },
  {
   "cell_type": "code",
   "execution_count": 1,
   "metadata": {},
   "outputs": [
    {
     "name": "stdout",
     "output_type": "stream",
     "text": [
      "Collecting opencv-python\n",
      "  Downloading opencv_python-4.6.0.66-cp36-abi3-win_amd64.whl (35.6 MB)\n",
      "Requirement already satisfied: numpy>=1.14.5; python_version >= \"3.7\" in c:\\users\\uno\\anaconda3\\lib\\site-packages (from opencv-python) (1.21.5)\n",
      "Installing collected packages: opencv-python\n",
      "Successfully installed opencv-python-4.6.0.66\n",
      "Note: you may need to restart the kernel to use updated packages.\n"
     ]
    }
   ],
   "source": [
    "pip install opencv-python"
   ]
  },
  {
   "cell_type": "markdown",
   "metadata": {},
   "source": [
    "### Agregado de la marca de agua"
   ]
  },
  {
   "cell_type": "code",
   "execution_count": null,
   "metadata": {},
   "outputs": [],
   "source": [
    "# Cargamos la señal que queremos meterle la marca de agua\n",
    "# La ploteamos"
   ]
  },
  {
   "cell_type": "code",
   "execution_count": null,
   "metadata": {},
   "outputs": [],
   "source": [
    "# Calculamos la STFT de la señal, con el checkeo de criterios y todo lo que pusimos de stft como en la Guía 1.\n",
    "# Ploteamos STFT"
   ]
  },
  {
   "cell_type": "code",
   "execution_count": null,
   "metadata": {},
   "outputs": [],
   "source": [
    "# Aplicamos SVD a la matriz STFT"
   ]
  },
  {
   "cell_type": "code",
   "execution_count": 10,
   "metadata": {},
   "outputs": [],
   "source": [
    "# Cargamos la imagen que queremos incrustar a la señal, la convertimos en byn, la convertimos en una secuencia binaria y dimensionamos\n",
    "img = cv2.imread('Pierre-Simon-Laplace.jpg', 2) # lee el archivo de imagen\n",
    "# cv2.imshow('image', img)\n",
    "# cv2.waitKey(0)\n",
    "ret, bw_img = cv2.threshold(img, 127, 255, cv2.THRESH_BINARY) # aplica un umbral para determinar qué es 0 y que es 1. bw_img es la imagen en binario\n",
    "bw = cv2.threshold(img, 127, 255, cv2.THRESH_BINARY) # tupla: (ret, bw_img) \n",
    "\n",
    "cv2.imshow('Binary', bw_img) \n",
    "cv2.waitKey(0)\n",
    "cv2.destroyAllWindows()"
   ]
  },
  {
   "cell_type": "code",
   "execution_count": 8,
   "metadata": {},
   "outputs": [
    {
     "name": "stdout",
     "output_type": "stream",
     "text": [
      "127.0\n",
      "<class 'float'>\n",
      "[[0 0 0 ... 0 0 0]\n",
      " [0 0 0 ... 0 0 0]\n",
      " [0 0 0 ... 0 0 0]\n",
      " ...\n",
      " [0 0 0 ... 0 0 0]\n",
      " [0 0 0 ... 0 0 0]\n",
      " [0 0 0 ... 0 0 0]]\n",
      "<class 'numpy.ndarray'>\n",
      "(127.0, array([[0, 0, 0, ..., 0, 0, 0],\n",
      "       [0, 0, 0, ..., 0, 0, 0],\n",
      "       [0, 0, 0, ..., 0, 0, 0],\n",
      "       ...,\n",
      "       [0, 0, 0, ..., 0, 0, 0],\n",
      "       [0, 0, 0, ..., 0, 0, 0],\n",
      "       [0, 0, 0, ..., 0, 0, 0]], dtype=uint8))\n",
      "<class 'tuple'>\n"
     ]
    }
   ],
   "source": [
    "print(str(ret))\n",
    "print(str(type(ret)))\n",
    "\n",
    "print(str(bw_img))\n",
    "print(str(type(bw_img)))\n",
    "\n",
    "print(str(bw))\n",
    "print(str(type(bw)))"
   ]
  },
  {
   "cell_type": "code",
   "execution_count": 14,
   "metadata": {},
   "outputs": [
    {
     "name": "stdout",
     "output_type": "stream",
     "text": [
      "Dimension de matriz imagen: (1190, 920)\n",
      "Dimension de secuencia generada: (1094800,)\n"
     ]
    }
   ],
   "source": [
    "sec_binaria = bw_img.flatten() # matriz imagen a array unidimensional\n",
    "print('Dimension de matriz imagen: '+ str(bw_img.shape))\n",
    "print('Dimension de secuencia generada: '+ str(sec_binaria.shape))"
   ]
  },
  {
   "cell_type": "code",
   "execution_count": null,
   "metadata": {},
   "outputs": [],
   "source": [
    "# El tema de truncar el array para que las dimensiones den bien lo podemos hacer con algo tipo:\n",
    "# sec_truncada = sec_binaria[:len('algo')]\n",
    "# de esa manera aseguramos que según que audio e imagen usemos van a funcionar bien las dimensiones para operar (igual hay que ver como mezclamos marca de agua y audio)"
   ]
  },
  {
   "cell_type": "code",
   "execution_count": null,
   "metadata": {},
   "outputs": [],
   "source": [
    "# Acá tendríamos que ver como la metemos en la matriz STFT..."
   ]
  },
  {
   "cell_type": "markdown",
   "metadata": {},
   "source": [
    "### Detección de la marca de agua"
   ]
  },
  {
   "cell_type": "code",
   "execution_count": null,
   "metadata": {},
   "outputs": [],
   "source": [
    "# Presentamos todas las cosas que se necesitan para detectar la marca de agua, y hacemos alguna prueba o algo."
   ]
  },
  {
   "cell_type": "markdown",
   "metadata": {},
   "source": [
    "### Parámetros para evaluar el resultado"
   ]
  },
  {
   "cell_type": "code",
   "execution_count": null,
   "metadata": {},
   "outputs": [],
   "source": [
    "# Acá calculamos PSNR yu NC para la señal con marca de agua que tenemos hasta el momento."
   ]
  },
  {
   "cell_type": "markdown",
   "metadata": {},
   "source": [
    "### Pruebas modificando la señal resultante"
   ]
  },
  {
   "cell_type": "code",
   "execution_count": null,
   "metadata": {},
   "outputs": [],
   "source": [
    "# 'Ataques' mas o menos simples para determinar la robustez de la marca de agua."
   ]
  }
 ],
 "metadata": {
  "kernelspec": {
   "display_name": "Python 3.7.6 ('base')",
   "language": "python",
   "name": "python3"
  },
  "language_info": {
   "codemirror_mode": {
    "name": "ipython",
    "version": 3
   },
   "file_extension": ".py",
   "mimetype": "text/x-python",
   "name": "python",
   "nbconvert_exporter": "python",
   "pygments_lexer": "ipython3",
   "version": "3.7.6"
  },
  "orig_nbformat": 4,
  "vscode": {
   "interpreter": {
    "hash": "5b3bcb44356347eaaf0465458e49dfb50df47bc40a3e2ebf84923f643dc90a06"
   }
  }
 },
 "nbformat": 4,
 "nbformat_minor": 2
}
